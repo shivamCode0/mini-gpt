{
 "cells": [
  {
   "cell_type": "code",
   "execution_count": 1,
   "metadata": {},
   "outputs": [],
   "source": [
    "import onnxruntime as ort\n",
    "import numpy as np\n",
    "import json"
   ]
  },
  {
   "cell_type": "code",
   "execution_count": 2,
   "metadata": {},
   "outputs": [],
   "source": [
    "# load model\n",
    "model_sess = ort.InferenceSession('tmp/ngram/model.onnx', providers=['CUDAExecutionProvider'])\n",
    "config = json.load(open('tmp/ngram/config.json'))"
   ]
  },
  {
   "cell_type": "code",
   "execution_count": 3,
   "metadata": {},
   "outputs": [],
   "source": [
    "def exec_model(input):\n",
    "    return model_sess.run(None, {'input': np.array(input, dtype=np.int32)})[0]"
   ]
  },
  {
   "cell_type": "code",
   "execution_count": 4,
   "metadata": {},
   "outputs": [],
   "source": [
    "stoi = {ch: i for i, ch in enumerate(config[\"chars\"])}\n",
    "itos = {i: ch for i, ch in enumerate(config[\"chars\"])}\n",
    "encode = lambda s: [stoi[c] for c in s]  # encoder: take a string, output a list of integers\n",
    "decode = lambda l: \"\".join([itos[i] for i in l])  # decoder: take a list of integers, output a string"
   ]
  },
  {
   "cell_type": "code",
   "execution_count": 5,
   "metadata": {},
   "outputs": [],
   "source": [
    "def fix_func(old_func):\n",
    "    def new_func(x):\n",
    "        x = np.array(x)\n",
    "        if len(np.shape(x)) > 1:\n",
    "            return np.array([new_func(a) for a in x])\n",
    "        else:\n",
    "            return old_func(x)\n",
    "\n",
    "    return new_func\n",
    "\n",
    "\n",
    "@fix_func\n",
    "def softmax(x):\n",
    "    e_x = np.exp(x - np.max(x))\n",
    "    return e_x / e_x.sum(axis=0)\n",
    "\n",
    "\n",
    "@fix_func\n",
    "def choose(probs):\n",
    "    return np.random.choice(len(probs), p=probs, size=(1,))\n",
    "    # return [np.argmax(probs, axis=-1)]\n",
    "\n",
    "\n",
    "def generate(x, *, max_len, temperature=1.0, amt=1):\n",
    "    assert len(np.shape(x)) == 1, \"x should be a list of integers\"\n",
    "    x = np.reshape(x, (1, -1))\n",
    "    x = np.repeat(x, amt, axis=0)\n",
    "    for _ in range(max_len):\n",
    "        logits = exec_model(np.array(x))[:, -1] / temperature\n",
    "        probs = softmax(logits)\n",
    "        next_token = choose(probs)\n",
    "        x = np.concatenate([x, next_token], axis=-1)\n",
    "    return x\n",
    "\n",
    "\n",
    "def generate_text(x, **kwargs):\n",
    "    return [decode(a) for a in generate(encode(x), **kwargs)]"
   ]
  },
  {
   "cell_type": "code",
   "execution_count": null,
   "metadata": {},
   "outputs": [],
   "source": [
    "!"
   ]
  },
  {
   "cell_type": "markdown",
   "metadata": {},
   "source": [
    "for text in generate_text('LUCENT', max_len=100, temperature=0.7, amt=2):\n",
    "    print(\"----------\")\n",
    "    print(text)"
   ]
  }
 ],
 "metadata": {
  "kernelspec": {
   "display_name": "tf",
   "language": "python",
   "name": "python3"
  },
  "language_info": {
   "codemirror_mode": {
    "name": "ipython",
    "version": 3
   },
   "file_extension": ".py",
   "mimetype": "text/x-python",
   "name": "python",
   "nbconvert_exporter": "python",
   "pygments_lexer": "ipython3",
   "version": "3.9.18"
  },
  "orig_nbformat": 4
 },
 "nbformat": 4,
 "nbformat_minor": 2
}
